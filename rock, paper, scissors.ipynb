{
 "cells": [
  {
   "cell_type": "code",
   "execution_count": null,
   "id": "60689fe3",
   "metadata": {},
   "outputs": [],
   "source": [
    "# Creation of the game:\n",
    "\n",
    "# Players: Computer vs. 1 player \n",
    "# for computer ONLY:\n",
    "# randomized from a list of rock, paper, scissors\n",
    "\n",
    "# for player ONLY:\n",
    "# input rock, paper, scissors \n",
    "\n",
    "# another function that compares computer to player input "
   ]
  },
  {
   "cell_type": "code",
   "execution_count": 1,
   "id": "62db4431",
   "metadata": {},
   "outputs": [],
   "source": [
    "# rock, paper, scissors\n",
    "import random\n",
    "\n",
    "class game():\n",
    "    def __init__(self):\n",
    "        self.choices = [\"Rock\", \"Paper\", \"Scissors\"]\n",
    "        \n",
    "    def computer(self):\n",
    "        compinput = random.choice(self.choices)\n",
    "        if compinput == \"Rock\":\n",
    "            value_comp = 1\n",
    "        elif compinput == \"Paper\":\n",
    "            value_comp = 2\n",
    "        elif compinput == \"Scissors\":\n",
    "            value_comp = 3\n",
    "        return value_comp\n",
    "\n",
    "# Testing computer function\n",
    "# game = game() --> initalize the game\n",
    "# print(game.computer())\n",
    "        \n",
    "    def player(self):\n",
    "        while True:\n",
    "            pchoice = input(\"Please enter rock, paper, scissors: \")\n",
    "            if pchoice.lower() == \"rock\":\n",
    "                print(\"You have selected, Rock\")\n",
    "                pchoice1 = 1\n",
    "                return pchoice1\n",
    "            elif pchoice.lower() == \"paper\":\n",
    "                print(\"You have selected, Paper\")\n",
    "                pchoice1 = 2\n",
    "                return pchoice1 \n",
    "            elif pchoice.lower() == \"scissors\":\n",
    "                print(\"You have selected Scissors\")\n",
    "                pchoice1 = 3\n",
    "                return pchoice1\n",
    "            else:\n",
    "                print(\"This is not valid, please try again!\")\n",
    "\n",
    "# Testing player function\n",
    "# game = game()\n",
    "# print(game.player())\n",
    "\n",
    "    def compare(self, value_comp, pchoice1):\n",
    "        if value_comp > pchoice1:\n",
    "            print(\"Computer Wins!\")\n",
    "        elif value_comp < pchoice1:\n",
    "            print(\"You Win!\")\n",
    "        else:\n",
    "            print(\"It's a tie!\")\n"
   ]
  },
  {
   "cell_type": "code",
   "execution_count": 2,
   "id": "276f1681",
   "metadata": {},
   "outputs": [
    {
     "name": "stdout",
     "output_type": "stream",
     "text": [
      "Please enter start to start game or quit to exit: start\n",
      "Please enter rock, paper, scissors: rock\n",
      "You have selected, Rock\n",
      "Computer Wins!\n",
      "Please enter start to start game or quit to exit: start\n",
      "Please enter rock, paper, scissors: paper\n",
      "You have selected, Paper\n",
      "You Win!\n",
      "Please enter start to start game or quit to exit: start\n",
      "Please enter rock, paper, scissors: scissors\n",
      "You have selected Scissors\n",
      "You Win!\n",
      "Please enter start to start game or quit to exit: start\n",
      "Please enter rock, paper, scissors: rock\n",
      "You have selected, Rock\n",
      "Computer Wins!\n",
      "Please enter start to start game or quit to exit: start\n",
      "Please enter rock, paper, scissors: scissors\n",
      "You have selected Scissors\n",
      "You Win!\n",
      "Please enter start to start game or quit to exit: start\n",
      "Please enter rock, paper, scissors: paper\n",
      "You have selected, Paper\n",
      "It's a tie!\n",
      "Please enter start to start game or quit to exit: quit\n",
      "Thank you for playing!\n"
     ]
    }
   ],
   "source": [
    "def playGame():\n",
    "    start = game()\n",
    "    while True:\n",
    "        response = input(\"Please enter start to start game or quit to exit: \")\n",
    "        if response.lower() == \"start\":\n",
    "            x = start.computer()\n",
    "            y = start.player()\n",
    "            start.compare(x,y)\n",
    "        elif response.lower() == \"quit\":\n",
    "            print(\"Thank you for playing!\")\n",
    "            break\n",
    "        else:\n",
    "            print(\"Sorry this is not a valid entry, please try again\")\n",
    "            \n",
    "playGame()"
   ]
  },
  {
   "cell_type": "code",
   "execution_count": null,
   "id": "e13ec1df",
   "metadata": {},
   "outputs": [],
   "source": []
  }
 ],
 "metadata": {
  "kernelspec": {
   "display_name": "Python 3",
   "language": "python",
   "name": "python3"
  },
  "language_info": {
   "codemirror_mode": {
    "name": "ipython",
    "version": 3
   },
   "file_extension": ".py",
   "mimetype": "text/x-python",
   "name": "python",
   "nbconvert_exporter": "python",
   "pygments_lexer": "ipython3",
   "version": "3.9.5"
  }
 },
 "nbformat": 4,
 "nbformat_minor": 5
}
